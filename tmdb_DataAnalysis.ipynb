{
 "cells": [
  {
   "cell_type": "code",
   "execution_count": 147,
   "id": "bb319e7f-a78f-4a37-bccf-ff48d22f0491",
   "metadata": {},
   "outputs": [],
   "source": [
    "import pandas as pd\n",
    "import numpy as np\n",
    "import matplotlib.pyplot as plt\n",
    "import seaborn as sns"
   ]
  },
  {
   "cell_type": "code",
   "execution_count": 148,
   "id": "d5d343b4-5e56-4825-ba85-621a1034caae",
   "metadata": {},
   "outputs": [
    {
     "name": "stdout",
     "output_type": "stream",
     "text": [
      "      budget                                             genres  \\\n",
      "0  237000000  [{\"id\": 28, \"name\": \"Action\"}, {\"id\": 12, \"nam...   \n",
      "1  300000000  [{\"id\": 12, \"name\": \"Adventure\"}, {\"id\": 14, \"...   \n",
      "2  245000000  [{\"id\": 28, \"name\": \"Action\"}, {\"id\": 12, \"nam...   \n",
      "3  250000000  [{\"id\": 28, \"name\": \"Action\"}, {\"id\": 80, \"nam...   \n",
      "4  260000000  [{\"id\": 28, \"name\": \"Action\"}, {\"id\": 12, \"nam...   \n",
      "\n",
      "                                       homepage      id  \\\n",
      "0                   http://www.avatarmovie.com/   19995   \n",
      "1  http://disney.go.com/disneypictures/pirates/     285   \n",
      "2   http://www.sonypictures.com/movies/spectre/  206647   \n",
      "3            http://www.thedarkknightrises.com/   49026   \n",
      "4          http://movies.disney.com/john-carter   49529   \n",
      "\n",
      "                                            keywords original_language  \\\n",
      "0  [{\"id\": 1463, \"name\": \"culture clash\"}, {\"id\":...                en   \n",
      "1  [{\"id\": 270, \"name\": \"ocean\"}, {\"id\": 726, \"na...                en   \n",
      "2  [{\"id\": 470, \"name\": \"spy\"}, {\"id\": 818, \"name...                en   \n",
      "3  [{\"id\": 849, \"name\": \"dc comics\"}, {\"id\": 853,...                en   \n",
      "4  [{\"id\": 818, \"name\": \"based on novel\"}, {\"id\":...                en   \n",
      "\n",
      "                             original_title  \\\n",
      "0                                    Avatar   \n",
      "1  Pirates of the Caribbean: At World's End   \n",
      "2                                   Spectre   \n",
      "3                     The Dark Knight Rises   \n",
      "4                               John Carter   \n",
      "\n",
      "                                            overview  popularity  \\\n",
      "0  In the 22nd century, a paraplegic Marine is di...  150.437577   \n",
      "1  Captain Barbossa, long believed to be dead, ha...  139.082615   \n",
      "2  A cryptic message from Bond’s past sends him o...  107.376788   \n",
      "3  Following the death of District Attorney Harve...  112.312950   \n",
      "4  John Carter is a war-weary, former military ca...   43.926995   \n",
      "\n",
      "                                production_companies  \\\n",
      "0  [{\"name\": \"Ingenious Film Partners\", \"id\": 289...   \n",
      "1  [{\"name\": \"Walt Disney Pictures\", \"id\": 2}, {\"...   \n",
      "2  [{\"name\": \"Columbia Pictures\", \"id\": 5}, {\"nam...   \n",
      "3  [{\"name\": \"Legendary Pictures\", \"id\": 923}, {\"...   \n",
      "4        [{\"name\": \"Walt Disney Pictures\", \"id\": 2}]   \n",
      "\n",
      "                                production_countries release_date     revenue  \\\n",
      "0  [{\"iso_3166_1\": \"US\", \"name\": \"United States o...   2009-12-10  2787965087   \n",
      "1  [{\"iso_3166_1\": \"US\", \"name\": \"United States o...   2007-05-19   961000000   \n",
      "2  [{\"iso_3166_1\": \"GB\", \"name\": \"United Kingdom\"...   2015-10-26   880674609   \n",
      "3  [{\"iso_3166_1\": \"US\", \"name\": \"United States o...   2012-07-16  1084939099   \n",
      "4  [{\"iso_3166_1\": \"US\", \"name\": \"United States o...   2012-03-07   284139100   \n",
      "\n",
      "   runtime                                   spoken_languages    status  \\\n",
      "0    162.0  [{\"iso_639_1\": \"en\", \"name\": \"English\"}, {\"iso...  Released   \n",
      "1    169.0           [{\"iso_639_1\": \"en\", \"name\": \"English\"}]  Released   \n",
      "2    148.0  [{\"iso_639_1\": \"fr\", \"name\": \"Fran\\u00e7ais\"},...  Released   \n",
      "3    165.0           [{\"iso_639_1\": \"en\", \"name\": \"English\"}]  Released   \n",
      "4    132.0           [{\"iso_639_1\": \"en\", \"name\": \"English\"}]  Released   \n",
      "\n",
      "                                          tagline  \\\n",
      "0                     Enter the World of Pandora.   \n",
      "1  At the end of the world, the adventure begins.   \n",
      "2                           A Plan No One Escapes   \n",
      "3                                 The Legend Ends   \n",
      "4            Lost in our world, found in another.   \n",
      "\n",
      "                                      title  vote_average  vote_count  \n",
      "0                                    Avatar           7.2       11800  \n",
      "1  Pirates of the Caribbean: At World's End           6.9        4500  \n",
      "2                                   Spectre           6.3        4466  \n",
      "3                     The Dark Knight Rises           7.6        9106  \n",
      "4                               John Carter           6.1        2124  \n"
     ]
    }
   ],
   "source": [
    "df = pd.read_csv(\"tmdb_5000_movies.csv\")\n",
    "print(df.head())"
   ]
  },
  {
   "cell_type": "code",
   "execution_count": 149,
   "id": "7803bf90-6ab5-4e82-ab6b-6fa10900f722",
   "metadata": {
    "scrolled": true
   },
   "outputs": [
    {
     "name": "stdout",
     "output_type": "stream",
     "text": [
      "<class 'pandas.core.frame.DataFrame'>\n",
      "RangeIndex: 4803 entries, 0 to 4802\n",
      "Data columns (total 20 columns):\n",
      " #   Column                Non-Null Count  Dtype  \n",
      "---  ------                --------------  -----  \n",
      " 0   budget                4803 non-null   int64  \n",
      " 1   genres                4803 non-null   object \n",
      " 2   homepage              1712 non-null   object \n",
      " 3   id                    4803 non-null   int64  \n",
      " 4   keywords              4803 non-null   object \n",
      " 5   original_language     4803 non-null   object \n",
      " 6   original_title        4803 non-null   object \n",
      " 7   overview              4800 non-null   object \n",
      " 8   popularity            4803 non-null   float64\n",
      " 9   production_companies  4803 non-null   object \n",
      " 10  production_countries  4803 non-null   object \n",
      " 11  release_date          4802 non-null   object \n",
      " 12  revenue               4803 non-null   int64  \n",
      " 13  runtime               4801 non-null   float64\n",
      " 14  spoken_languages      4803 non-null   object \n",
      " 15  status                4803 non-null   object \n",
      " 16  tagline               3959 non-null   object \n",
      " 17  title                 4803 non-null   object \n",
      " 18  vote_average          4803 non-null   float64\n",
      " 19  vote_count            4803 non-null   int64  \n",
      "dtypes: float64(3), int64(4), object(13)\n",
      "memory usage: 750.6+ KB\n",
      "None\n"
     ]
    }
   ],
   "source": [
    "print(df.info())"
   ]
  },
  {
   "cell_type": "code",
   "execution_count": 150,
   "id": "9ec3b869-8aed-4822-9926-33684ec926a3",
   "metadata": {},
   "outputs": [
    {
     "name": "stdout",
     "output_type": "stream",
     "text": [
      "budget                   436\n",
      "genres                  1175\n",
      "homepage                1691\n",
      "id                      4803\n",
      "keywords                4222\n",
      "original_language         37\n",
      "original_title          4801\n",
      "overview                4800\n",
      "popularity              4802\n",
      "production_companies    3697\n",
      "production_countries     469\n",
      "release_date            3280\n",
      "revenue                 3297\n",
      "runtime                  156\n",
      "spoken_languages         544\n",
      "status                     3\n",
      "tagline                 3944\n",
      "title                   4800\n",
      "vote_average              71\n",
      "vote_count              1609\n",
      "dtype: int64\n"
     ]
    }
   ],
   "source": [
    "# taking a look at number of unique values\n",
    "print(df.nunique())"
   ]
  },
  {
   "cell_type": "code",
   "execution_count": 151,
   "id": "cadcfd04-608c-40c0-a767-e9573c02ac62",
   "metadata": {},
   "outputs": [
    {
     "name": "stdout",
     "output_type": "stream",
     "text": [
      "0       7.2\n",
      "1       6.9\n",
      "2       6.3\n",
      "3       7.6\n",
      "4       6.1\n",
      "       ... \n",
      "4798    6.6\n",
      "4799    5.9\n",
      "4800    7.0\n",
      "4801    5.7\n",
      "4802    6.3\n",
      "Name: vote_average, Length: 4803, dtype: float64\n"
     ]
    }
   ],
   "source": [
    "# closer look at the vote_average values\n",
    "print(df['vote_average'])  "
   ]
  },
  {
   "cell_type": "code",
   "execution_count": 152,
   "id": "4d4c1f2c-f345-471e-98d6-370a48b9e023",
   "metadata": {},
   "outputs": [
    {
     "name": "stdout",
     "output_type": "stream",
     "text": [
      "0\n"
     ]
    }
   ],
   "source": [
    "# calculating duplicated values \n",
    "print(df.duplicated().sum())"
   ]
  },
  {
   "cell_type": "code",
   "execution_count": 153,
   "id": "366e804f-6710-473f-8d8e-3655c25aaf2e",
   "metadata": {},
   "outputs": [
    {
     "name": "stdout",
     "output_type": "stream",
     "text": [
      "Index(['budget', 'genres', 'homepage', 'id', 'keywords', 'original_language',\n",
      "       'original_title', 'overview', 'popularity', 'production_companies',\n",
      "       'production_countries', 'release_date', 'revenue', 'runtime',\n",
      "       'spoken_languages', 'status', 'tagline', 'title', 'vote_average',\n",
      "       'vote_count'],\n",
      "      dtype='object')\n"
     ]
    }
   ],
   "source": [
    "print(df.columns)"
   ]
  },
  {
   "cell_type": "code",
   "execution_count": 154,
   "id": "29209145-c1ed-43d1-872a-f77c7265adee",
   "metadata": {},
   "outputs": [],
   "source": [
    "# dropping unuseful columns\n",
    "df.drop(['id', 'homepage', 'tagline', 'overview', 'keywords', 'production_companies', 'release_date', 'production_countries', 'status', 'title', 'spoken_languages','original_language'], axis = 1, inplace = True)"
   ]
  },
  {
   "cell_type": "code",
   "execution_count": 155,
   "id": "63bcb9e5-e024-4aab-bad2-978181496759",
   "metadata": {},
   "outputs": [
    {
     "name": "stdout",
     "output_type": "stream",
     "text": [
      "(4803, 8)\n"
     ]
    }
   ],
   "source": [
    "# check for data frame shape\n",
    "print(df.shape)"
   ]
  },
  {
   "cell_type": "code",
   "execution_count": 156,
   "id": "0cb6dee3-711d-4b0a-a684-6871ad47d4b1",
   "metadata": {},
   "outputs": [
    {
     "name": "stdout",
     "output_type": "stream",
     "text": [
      "budget            0\n",
      "genres            0\n",
      "original_title    0\n",
      "popularity        0\n",
      "revenue           0\n",
      "runtime           2\n",
      "vote_average      0\n",
      "vote_count        0\n",
      "dtype: int64\n"
     ]
    }
   ],
   "source": [
    "print(df.isnull().sum())"
   ]
  },
  {
   "cell_type": "code",
   "execution_count": 157,
   "id": "8eee7e5c-bdf1-49e5-92ec-0db399034e98",
   "metadata": {},
   "outputs": [
    {
     "data": {
      "text/plain": [
       "np.int64(0)"
      ]
     },
     "execution_count": 157,
     "metadata": {},
     "output_type": "execute_result"
    }
   ],
   "source": [
    "# dropping NaNs ans confirming excution\n",
    "df.dropna(inplace= True)\n",
    "df.isnull().any().sum()"
   ]
  },
  {
   "cell_type": "code",
   "execution_count": 158,
   "id": "fd846c28-de02-4f74-963c-b9907fb146c7",
   "metadata": {},
   "outputs": [
    {
     "name": "stdout",
     "output_type": "stream",
     "text": [
      "      budget                                             genres  \\\n",
      "0  237000000  [{\"id\": 28, \"name\": \"Action\"}, {\"id\": 12, \"nam...   \n",
      "1  300000000  [{\"id\": 12, \"name\": \"Adventure\"}, {\"id\": 14, \"...   \n",
      "2  245000000  [{\"id\": 28, \"name\": \"Action\"}, {\"id\": 12, \"nam...   \n",
      "3  250000000  [{\"id\": 28, \"name\": \"Action\"}, {\"id\": 80, \"nam...   \n",
      "4  260000000  [{\"id\": 28, \"name\": \"Action\"}, {\"id\": 12, \"nam...   \n",
      "\n",
      "                             original_title  popularity     revenue  runtime  \\\n",
      "0                                    Avatar  150.437577  2787965087    162.0   \n",
      "1  Pirates of the Caribbean: At World's End  139.082615   961000000    169.0   \n",
      "2                                   Spectre  107.376788   880674609    148.0   \n",
      "3                     The Dark Knight Rises  112.312950  1084939099    165.0   \n",
      "4                               John Carter   43.926995   284139100    132.0   \n",
      "\n",
      "   vote_average  vote_count  \n",
      "0           7.2       11800  \n",
      "1           6.9        4500  \n",
      "2           6.3        4466  \n",
      "3           7.6        9106  \n",
      "4           6.1        2124  \n"
     ]
    }
   ],
   "source": [
    "# split values in the hyprid dataframe\n",
    "df['genres'] = df['genres'].apply(lambda x: x.split(\"|\")[0])\n",
    "print(df.head())"
   ]
  },
  {
   "cell_type": "code",
   "execution_count": 159,
   "id": "1e6b066f-b635-41b4-bbe9-8d7f1c6a2825",
   "metadata": {},
   "outputs": [
    {
     "name": "stdout",
     "output_type": "stream",
     "text": [
      "      budget                                             genres  \\\n",
      "0  237000000  [{\"id\": 28, \"name\": \"Action\"}, {\"id\": 12, \"nam...   \n",
      "1  300000000  [{\"id\": 12, \"name\": \"Adventure\"}, {\"id\": 14, \"...   \n",
      "2  245000000  [{\"id\": 28, \"name\": \"Action\"}, {\"id\": 12, \"nam...   \n",
      "3  250000000  [{\"id\": 28, \"name\": \"Action\"}, {\"id\": 80, \"nam...   \n",
      "4  260000000  [{\"id\": 28, \"name\": \"Action\"}, {\"id\": 12, \"nam...   \n",
      "\n",
      "                             original_title  popularity     revenue  runtime  \\\n",
      "0                                    Avatar  150.437577  2787965087    162.0   \n",
      "1  Pirates of the Caribbean: At World's End  139.082615   961000000    169.0   \n",
      "2                                   Spectre  107.376788   880674609    148.0   \n",
      "3                     The Dark Knight Rises  112.312950  1084939099    165.0   \n",
      "4                               John Carter   43.926995   284139100    132.0   \n",
      "\n",
      "   vote_average  vote_count      profit  \n",
      "0           7.2       11800  2550965087  \n",
      "1           6.9        4500   661000000  \n",
      "2           6.3        4466   635674609  \n",
      "3           7.6        9106   834939099  \n",
      "4           6.1        2124    24139100  \n"
     ]
    }
   ],
   "source": [
    "# adding new column for movie profit (revenue - budget)\n",
    "df['profit'] = df.revenue - df.budget\n",
    "print(df.head())"
   ]
  },
  {
   "cell_type": "code",
   "execution_count": 160,
   "id": "dcaf1d2a-1bf9-4427-85fe-0415a9266eec",
   "metadata": {},
   "outputs": [],
   "source": [
    "def catigorize_col (df, col, labels):\n",
    "    \"\"\"\n",
    "    catigorizes a certain column based on its quartiles\n",
    "\n",
    "    Args:\n",
    "        (df)     df   - dataframe we are proccesing\n",
    "        (col)    str  - to be catigorized column's name\n",
    "        (labels) list - list of labels from min to max\n",
    "\n",
    "    Returns:\n",
    "        (df)     df   - dataframe with the categorized col\n",
    "    \"\"\"\n",
    "\n",
    "    # setting the edges to cut the column accordingly\n",
    "    edges = [df[col].describe()['min'],\n",
    "             df[col].describe()['25%'],\n",
    "             df[col].describe()['50%'],\n",
    "             df[col].describe()['75%'],\n",
    "             df[col].describe()['max']]\n",
    "\n",
    "    df[col] = pd.cut(df[col], edges, labels = labels, duplicates='drop')\n",
    "    return df"
   ]
  },
  {
   "cell_type": "code",
   "execution_count": 161,
   "id": "773584fc-9f33-423b-80ba-985553fe3970",
   "metadata": {},
   "outputs": [
    {
     "data": {
      "text/plain": [
       "['popular', 'average', 'below_avg', 'not_popular', NaN]\n",
       "Categories (4, object): ['not_popular' < 'below_avg' < 'average' < 'popular']"
      ]
     },
     "execution_count": 161,
     "metadata": {},
     "output_type": "execute_result"
    }
   ],
   "source": [
    "# define labels for these edges\n",
    "labels = ['not_popular', 'below_avg', 'average', 'popular']\n",
    "catigorize_col(df, 'vote_average', labels)\n",
    "\n",
    "df['vote_average'].unique()"
   ]
  },
  {
   "cell_type": "code",
   "execution_count": 162,
   "id": "f564c7aa-dc33-45b9-ae0c-2972e0a65183",
   "metadata": {},
   "outputs": [
    {
     "name": "stdout",
     "output_type": "stream",
     "text": [
      "budget            0\n",
      "genres            0\n",
      "original_title    0\n",
      "popularity        0\n",
      "revenue           0\n",
      "runtime           0\n",
      "vote_average      0\n",
      "vote_count        0\n",
      "profit            0\n",
      "dtype: int64\n"
     ]
    }
   ],
   "source": [
    "# dropping nans and confirming\n",
    "df.dropna(inplace = True)\n",
    "print(df.isnull().sum())"
   ]
  },
  {
   "cell_type": "code",
   "execution_count": 163,
   "id": "7483ce4f-8932-48e8-b57c-2514b79799a0",
   "metadata": {},
   "outputs": [
    {
     "data": {
      "text/plain": [
       "['high', 'low', 'average']\n",
       "Categories (3, object): ['low' < 'average' < 'high']"
      ]
     },
     "execution_count": 163,
     "metadata": {},
     "output_type": "execute_result"
    }
   ],
   "source": [
    "# define labels for these edges\n",
    "labels = ['low', 'average', 'high']\n",
    "df['profit'] = pd.cut(df['profit'], bins=3, labels=labels)\n",
    "\n",
    "df['profit'].unique()"
   ]
  },
  {
   "cell_type": "code",
   "execution_count": 164,
   "id": "753e7024-8224-4155-9b98-d8d8d17d9304",
   "metadata": {},
   "outputs": [
    {
     "name": "stdout",
     "output_type": "stream",
     "text": [
      "      budget                                             genres  \\\n",
      "0  237000000  [{\"id\": 28, \"name\": \"Action\"}, {\"id\": 12, \"nam...   \n",
      "1  300000000  [{\"id\": 12, \"name\": \"Adventure\"}, {\"id\": 14, \"...   \n",
      "2  245000000  [{\"id\": 28, \"name\": \"Action\"}, {\"id\": 12, \"nam...   \n",
      "3  250000000  [{\"id\": 28, \"name\": \"Action\"}, {\"id\": 80, \"nam...   \n",
      "4  260000000  [{\"id\": 28, \"name\": \"Action\"}, {\"id\": 12, \"nam...   \n",
      "\n",
      "                             original_title  popularity     revenue  runtime  \\\n",
      "0                                    Avatar  150.437577  2787965087    162.0   \n",
      "1  Pirates of the Caribbean: At World's End  139.082615   961000000    169.0   \n",
      "2                                   Spectre  107.376788   880674609    148.0   \n",
      "3                     The Dark Knight Rises  112.312950  1084939099    165.0   \n",
      "4                               John Carter   43.926995   284139100    132.0   \n",
      "\n",
      "  vote_average  vote_count   profit  \n",
      "0      popular       11800     high  \n",
      "1      popular        4500      low  \n",
      "2      average        4466      low  \n",
      "3      popular        9106  average  \n",
      "4    below_avg        2124      low  \n"
     ]
    }
   ],
   "source": [
    "print(df.head())"
   ]
  },
  {
   "cell_type": "code",
   "execution_count": 165,
   "id": "b3c069bb-e568-419a-848d-4c3ca7d93075",
   "metadata": {},
   "outputs": [
    {
     "name": "stdout",
     "output_type": "stream",
     "text": [
      "<class 'pandas.core.frame.DataFrame'>\n",
      "Index: 4739 entries, 0 to 4802\n",
      "Data columns (total 9 columns):\n",
      " #   Column          Non-Null Count  Dtype   \n",
      "---  ------          --------------  -----   \n",
      " 0   budget          4739 non-null   int64   \n",
      " 1   genres          4739 non-null   object  \n",
      " 2   original_title  4739 non-null   object  \n",
      " 3   popularity      4739 non-null   float64 \n",
      " 4   revenue         4739 non-null   int64   \n",
      " 5   runtime         4739 non-null   float64 \n",
      " 6   vote_average    4739 non-null   category\n",
      " 7   vote_count      4739 non-null   int64   \n",
      " 8   profit          4739 non-null   category\n",
      "dtypes: category(2), float64(2), int64(3), object(2)\n",
      "memory usage: 305.8+ KB\n",
      "None\n"
     ]
    }
   ],
   "source": [
    "print(df.info())"
   ]
  },
  {
   "cell_type": "code",
   "execution_count": 166,
   "id": "bc38858a-76dc-406f-b7dc-617baec57d26",
   "metadata": {},
   "outputs": [],
   "source": [
    "Q1: Do movies with high popularity achive high revenvue?\n",
    "# get median of popularity to compare with\n",
    "median_popularity = df['popularity'].median()"
   ]
  },
  {
   "cell_type": "code",
   "execution_count": 167,
   "id": "a22d2362-1c48-4c81-b791-3cb7afa721ae",
   "metadata": {},
   "outputs": [
    {
     "name": "stdout",
     "output_type": "stream",
     "text": [
      "Mean revenue of less popular movies: 12834465.635021098\n",
      "Mean revenue of more popular movies: 153938433.95989868\n"
     ]
    }
   ],
   "source": [
    "less_popular = df.query('popularity <= @median_popularity')\n",
    "more_popular = df.query('popularity > @median_popularity')\n",
    "\n",
    "# Step 3: calculate mean revenue for both groups\n",
    "print(\"Mean revenue of less popular movies:\", less_popular['revenue'].mean())\n",
    "print(\"Mean revenue of more popular movies:\", more_popular['revenue'].mean())"
   ]
  },
  {
   "cell_type": "code",
   "execution_count": 168,
   "id": "00675d38-57a9-4a01-988f-3a13166958d8",
   "metadata": {},
   "outputs": [],
   "source": [
    "import ast\n",
    "\n",
    "def convert_to_list(x):\n",
    "    if isinstance(x, str):\n",
    "        try:\n",
    "            return ast.literal_eval(x)  # convert string to list/dict\n",
    "        except:\n",
    "            return []\n",
    "    elif isinstance(x, list):\n",
    "        return x\n",
    "    else:\n",
    "        return []\n",
    "\n",
    "# Apply conversion\n",
    "df['genres'] = df['genres'].apply(convert_to_list)\n",
    "\n",
    "# Now extract only names\n",
    "df['genres'] = df['genres'].apply(lambda x: [g['name'] for g in x if isinstance(g, dict)])\n"
   ]
  },
  {
   "cell_type": "code",
   "execution_count": 169,
   "id": "5d4e1750-c4cf-4e03-80c2-f0fcefa37e09",
   "metadata": {},
   "outputs": [
    {
     "name": "stdout",
     "output_type": "stream",
     "text": [
      "0       [Action, Adventure, Fantasy, Science Fiction]\n",
      "1                        [Adventure, Fantasy, Action]\n",
      "2                          [Action, Adventure, Crime]\n",
      "3                    [Action, Crime, Drama, Thriller]\n",
      "4                [Action, Adventure, Science Fiction]\n",
      "                            ...                      \n",
      "4798                        [Action, Crime, Thriller]\n",
      "4799                                [Comedy, Romance]\n",
      "4800               [Comedy, Drama, Romance, TV Movie]\n",
      "4801                                               []\n",
      "4802                                    [Documentary]\n",
      "Name: genres, Length: 4739, dtype: object\n"
     ]
    }
   ],
   "source": [
    "print(df['genres'])"
   ]
  },
  {
   "cell_type": "code",
   "execution_count": 170,
   "id": "48dab383-7e5e-4a5a-bdff-976a044da6e0",
   "metadata": {},
   "outputs": [
    {
     "data": {
      "image/png": "[encoded data removed]",
      "text/plain": [
       "<Figure size 1000x600 with 1 Axes>"
      ]
     },
     "metadata": {},
     "output_type": "display_data"
    }
   ],
   "source": [
    "# Step 3: Remove rows with empty genre lists\n",
    "df_filtered = df[df['genres'].str.len() > 0]\n",
    "\n",
    "# Step 4: Explode the lists so each genre is in a separate row\n",
    "all_genres = df_filtered['genres'].explode()\n",
    "\n",
    "# Step 5: Count occurrences\n",
    "genre_counts = all_genres.value_counts()\n",
    "\n",
    "#Q2: What are the most filmed genres in this whole dataset?\n",
    "# Step 6: Plot safely\n",
    "if not genre_counts.empty:\n",
    "    plt.figure(figsize=(10,6))\n",
    "    genre_counts.plot(kind='bar', color='purple')\n",
    "    plt.title(\"Most Filmed Genres\", fontsize=14)\n",
    "    plt.xlabel(\"Genres\", fontsize=12)\n",
    "    plt.ylabel(\"Count\", fontsize=12)\n",
    "    plt.xticks(rotation=45)\n",
    "    plt.show()\n",
    "else:\n",
    "    print(\"No genres available to plot.\")"
   ]
  },
  {
   "cell_type": "code",
   "execution_count": 171,
   "id": "d3e5b9ad-974a-4b03-9ccb-14c2e3d8d96b",
   "metadata": {},
   "outputs": [
    {
     "data": {
      "text/plain": [
       "count        4739\n",
       "unique       1172\n",
       "top       [Drama]\n",
       "freq          361\n",
       "Name: genres, dtype: object"
      ]
     },
     "execution_count": 171,
     "metadata": {},
     "output_type": "execute_result"
    }
   ],
   "source": [
    "df['genres'].describe()"
   ]
  },
  {
   "cell_type": "code",
   "execution_count": 172,
   "id": "0af00374-e863-45e5-9f93-83d1d1334e3f",
   "metadata": {},
   "outputs": [
    {
     "data": {
      "image/png": "[encoded data removed]",
      "text/plain": [
       "<Figure size 640x480 with 1 Axes>"
      ]
     },
     "metadata": {},
     "output_type": "display_data"
    }
   ],
   "source": [
    "Q3: Is there a correlation between a movie budget and its revenue?\n",
    "# plotting budget against revenue\n",
    "plt.scatter(df['budget'],df['revenue']);\n",
    "plt.title(\"movie budget against its revenue\");\n",
    "plt.xlabel('budget', fontsize=10);\n",
    "plt.ylabel('revenue',fontsize=10);"
   ]
  }
 ],
 "metadata": {
  "kernelspec": {
   "display_name": "Python [conda env:base] *",
   "language": "python",
   "name": "conda-base-py"
  },
  "language_info": {
   "codemirror_mode": {
    "name": "ipython",
    "version": 3
   },
   "file_extension": ".py",
   "mimetype": "text/x-python",
   "name": "python",
   "nbconvert_exporter": "python",
   "pygments_lexer": "ipython3",
   "version": "3.13.5"
  }
 },
 "nbformat": 4,
 "nbformat_minor": 5
}
